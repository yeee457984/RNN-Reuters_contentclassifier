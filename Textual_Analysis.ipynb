{
  "cells": [
    {
      "cell_type": "markdown",
      "metadata": {
        "id": "view-in-github",
        "colab_type": "text"
      },
      "source": [
        "<a href=\"https://colab.research.google.com/github/yeee457984/RNN-Reuters_contentclassifier/blob/main/Textual_Analysis.ipynb\" target=\"_parent\"><img src=\"https://colab.research.google.com/assets/colab-badge.svg\" alt=\"Open In Colab\"/></a>"
      ]
    },
    {
      "cell_type": "code",
      "execution_count": null,
      "metadata": {
        "id": "cvMjC1Q6p6BE"
      },
      "outputs": [],
      "source": [
        "import os\n",
        "\n",
        "if not os.path.isdir(\"HappyML\"):\n",
        "  os.system(\"git clone https://github.com/cnchi/HappyML.git\")"
      ]
    },
    {
      "cell_type": "code",
      "execution_count": null,
      "metadata": {
        "colab": {
          "base_uri": "https://localhost:8080/"
        },
        "id": "KFlEhN1IuaeZ",
        "outputId": "95c640b2-6e03-461a-f9b2-f302d31e730e"
      },
      "outputs": [
        {
          "name": "stdout",
          "output_type": "stream",
          "text": [
            "X_train[0]: [1, 2, 2, 8, 43, 10, 447, 5, 25, 207, 270, 5, 3095, 111, 16, 369, 186, 90, 67, 7, 89, 5, 19, 102, 6, 19, 124, 15, 90, 67, 84, 22, 482, 26, 7, 48, 4, 49, 8, 864, 39, 209, 154, 6, 151, 6, 83, 11, 15, 22, 155, 11, 15, 7, 48, 9, 4579, 1005, 504, 6, 258, 6, 272, 11, 15, 22, 134, 44, 11, 15, 16, 8, 197, 1245, 90, 67, 52, 29, 209, 30, 32, 132, 6, 109, 15, 17, 12]\n",
            "Y_train[0]: 3\n"
          ]
        }
      ],
      "source": [
        "from tensorflow.keras.datasets import reuters\n",
        "\n",
        "most_freq_words = 10000\n",
        "(X_train, Y_train), (X_test, Y_test) = reuters.load_data(num_words=most_freq_words)\n",
        "\n",
        "print(\"X_train[0]:\", X_train[0])\n",
        "print(\"Y_train[0]:\", Y_train[0])"
      ]
    },
    {
      "cell_type": "code",
      "execution_count": null,
      "metadata": {
        "colab": {
          "base_uri": "https://localhost:8080/"
        },
        "id": "oTli6QDFvOjt",
        "outputId": "9d239281-c3ae-444f-e8bd-9796cdbc39ec"
      },
      "outputs": [
        {
          "name": "stdout",
          "output_type": "stream",
          "text": [
            "Decoded text: NiD NiD NiD said as a result of its december acquisition of space co it expects earnings per share in 1987 of 1 15 to 1 30 dlrs per share up from 70 cts in 1986 the company said pretax net should rise to nine to 10 mln dlrs from six mln dlrs in 1986 and rental operation revenues to 19 to 22 mln dlrs from 12 5 mln dlrs it said cash flow per share this year should be 2 50 to three dlrs reuter 3\n"
          ]
        }
      ],
      "source": [
        "word_index = reuters.get_word_index()\n",
        "reverse_word_index = dict([(value, key) for (key, value) in word_index.items()])\n",
        "decoded_news = ' '.join([reverse_word_index.get(i - 3, 'NiD') for i in X_train[0]])\n",
        "\n",
        "print(\"Decoded text:\", decoded_news)"
      ]
    },
    {
      "cell_type": "markdown",
      "metadata": {
        "id": "AM-rUPgBvodv"
      },
      "source": [
        "Preprocessing"
      ]
    },
    {
      "cell_type": "code",
      "execution_count": null,
      "metadata": {
        "id": "-zyGT69pvOcs"
      },
      "outputs": [],
      "source": [
        "from tensorflow.keras.preprocessing.sequence import pad_sequences\n",
        "from tensorflow.keras.utils import to_categorical\n",
        "\n",
        "max_len = 500\n",
        "\n",
        "X_train = pad_sequences(\n",
        "        sequences=X_train,\n",
        "        maxlen=max_len,\n",
        "        padding=\"pre\",\n",
        "        truncating=\"post\",\n",
        "        value=0)\n",
        "\n",
        "X_test = pad_sequences(\n",
        "        sequences=X_test,\n",
        "        maxlen=max_len,\n",
        "        padding=\"pre\",\n",
        "        truncating=\"post\",\n",
        "        value=0)\n",
        "\n",
        "Y_train = to_categorical(Y_train, num_classes=46)\n",
        "Y_test = to_categorical(Y_test, num_classes=46)"
      ]
    },
    {
      "cell_type": "code",
      "execution_count": null,
      "metadata": {
        "colab": {
          "base_uri": "https://localhost:8080/"
        },
        "id": "brS42EznwCrR",
        "outputId": "3a05224d-3e88-4121-d6bf-e409e3c8b7fc"
      },
      "outputs": [
        {
          "output_type": "stream",
          "name": "stdout",
          "text": [
            "Model: \"sequential_3\"\n",
            "_________________________________________________________________\n",
            " Layer (type)                Output Shape              Param #   \n",
            "=================================================================\n",
            " embedding_3 (Embedding)     (None, 500, 128)          1280000   \n",
            "                                                                 \n",
            " dropout_5 (Dropout)         (None, 500, 128)          0         \n",
            "                                                                 \n",
            " gru_3 (GRU)                 (None, 40)                20400     \n",
            "                                                                 \n",
            " dropout_6 (Dropout)         (None, 40)                0         \n",
            "                                                                 \n",
            " dense_2 (Dense)             (None, 46)                1886      \n",
            "                                                                 \n",
            "=================================================================\n",
            "Total params: 1302286 (4.97 MB)\n",
            "Trainable params: 1302286 (4.97 MB)\n",
            "Non-trainable params: 0 (0.00 Byte)\n",
            "_________________________________________________________________\n"
          ]
        }
      ],
      "source": [
        "from tensorflow.keras.models import Sequential\n",
        "from tensorflow.keras import layers\n",
        "\n",
        "model = Sequential()\n",
        "\n",
        "model.add(layers.Embedding(input_dim=most_freq_words, output_dim=128, input_length=max_len))\n",
        "model.add(layers.Dropout(0.2))\n",
        "\n",
        "model.add(layers.GRU(40, activation=\"relu\"))\n",
        "model.add(layers.Dropout(0.2))\n",
        "\n",
        "model.add(layers.Dense(46, activation=\"softmax\"))\n",
        "\n",
        "model.compile(optimizer=\"rmsprop\", loss=\"categorical_crossentropy\", metrics=[\"acc\"])\n",
        "model.summary()"
      ]
    },
    {
      "cell_type": "code",
      "execution_count": null,
      "metadata": {
        "id": "GkNcCJxZ0RBa"
      },
      "outputs": [],
      "source": [
        "%load_ext tensorboard\n",
        "\n",
        "!rm -rf ./logs/\n",
        "\n",
        "import os\n",
        "from datetime import datetime\n",
        "from tensorflow.keras.callbacks import TensorBoard\n",
        "\n",
        "logdir = os.path.join(\"logs\", datetime.now().strftime(\"%Y%m%d-%H%M%S\"))\n",
        "tensorboard_callback = TensorBoard(logdir, histogram_freq=1)"
      ]
    },
    {
      "cell_type": "code",
      "execution_count": null,
      "metadata": {
        "id": "sxP-zkiA0Tek"
      },
      "outputs": [],
      "source": [
        "%tensorboard --logdir logs"
      ]
    },
    {
      "cell_type": "code",
      "execution_count": null,
      "metadata": {
        "colab": {
          "background_save": true,
          "base_uri": "https://localhost:8080/"
        },
        "id": "KKKLxgHd0XTo",
        "outputId": "714b7ca9-8023-490e-9ac4-838ebc7a3070"
      },
      "outputs": [
        {
          "name": "stdout",
          "output_type": "stream",
          "text": [
            "Epoch 1/20\n",
            "225/225 [==============================] - 71s 305ms/step - loss: 2.6148 - acc: 0.3296 - val_loss: 2.0537 - val_acc: 0.3834\n",
            "Epoch 2/20\n",
            "225/225 [==============================] - 66s 291ms/step - loss: 2.0504 - acc: 0.4454 - val_loss: 1.9066 - val_acc: 0.4830\n",
            "Epoch 3/20\n",
            "225/225 [==============================] - 67s 297ms/step - loss: 1.8427 - acc: 0.4960 - val_loss: 1.7494 - val_acc: 0.5409\n",
            "Epoch 4/20\n",
            "225/225 [==============================] - 62s 276ms/step - loss: 1.7148 - acc: 0.5402 - val_loss: 1.6685 - val_acc: 0.5737\n",
            "Epoch 5/20\n",
            "225/225 [==============================] - 65s 288ms/step - loss: 1.6076 - acc: 0.5865 - val_loss: 1.5719 - val_acc: 0.5960\n",
            "Epoch 6/20\n",
            "225/225 [==============================] - 64s 285ms/step - loss: 1.5198 - acc: 0.6074 - val_loss: 1.5216 - val_acc: 0.6055\n",
            "Epoch 7/20\n",
            "225/225 [==============================] - 62s 276ms/step - loss: 1.4410 - acc: 0.6262 - val_loss: 1.5550 - val_acc: 0.5921\n",
            "Epoch 8/20\n",
            "225/225 [==============================] - 62s 277ms/step - loss: 1.3744 - acc: 0.6419 - val_loss: 1.4335 - val_acc: 0.6550\n",
            "Epoch 9/20\n",
            "225/225 [==============================] - 64s 285ms/step - loss: 1.2986 - acc: 0.6713 - val_loss: 1.4076 - val_acc: 0.6739\n",
            "Epoch 10/20\n",
            "225/225 [==============================] - 64s 286ms/step - loss: 1.2365 - acc: 0.6832 - val_loss: 1.3793 - val_acc: 0.6706\n",
            "Epoch 11/20\n",
            "225/225 [==============================] - 63s 281ms/step - loss: 1.1700 - acc: 0.6971 - val_loss: 1.8616 - val_acc: 0.6572\n",
            "Epoch 12/20\n",
            "225/225 [==============================] - 63s 279ms/step - loss: 1.1113 - acc: 0.7143 - val_loss: 1.3466 - val_acc: 0.6900\n",
            "Epoch 13/20\n",
            "225/225 [==============================] - 65s 289ms/step - loss: 1.0589 - acc: 0.7282 - val_loss: 1.3829 - val_acc: 0.6967\n",
            "Epoch 14/20\n",
            "225/225 [==============================] - 63s 279ms/step - loss: 1.0032 - acc: 0.7413 - val_loss: 1.3745 - val_acc: 0.6856\n",
            "Epoch 15/20\n",
            "225/225 [==============================] - 64s 284ms/step - loss: 0.9502 - acc: 0.7514 - val_loss: 1.4045 - val_acc: 0.6973\n",
            "Epoch 16/20\n",
            "225/225 [==============================] - 64s 286ms/step - loss: 0.9040 - acc: 0.7631 - val_loss: 1.3213 - val_acc: 0.7212\n",
            "Epoch 17/20\n",
            "225/225 [==============================] - 62s 277ms/step - loss: 0.8630 - acc: 0.7698 - val_loss: 1.3436 - val_acc: 0.7117\n",
            "Epoch 18/20\n",
            "225/225 [==============================] - 64s 285ms/step - loss: 0.8271 - acc: 0.7871 - val_loss: 1.3128 - val_acc: 0.7040\n",
            "Epoch 19/20\n",
            "225/225 [==============================] - 64s 286ms/step - loss: 0.7905 - acc: 0.7979 - val_loss: 1.2968 - val_acc: 0.7145\n",
            "Epoch 20/20\n",
            "225/225 [==============================] - 63s 281ms/step - loss: 0.7559 - acc: 0.8057 - val_loss: 1.3588 - val_acc: 0.7268\n"
          ]
        },
        {
          "data": {
            "text/plain": [
              "<keras.src.callbacks.History at 0x7aeee443e0e0>"
            ]
          },
          "execution_count": 25,
          "metadata": {},
          "output_type": "execute_result"
        }
      ],
      "source": [
        "model.fit(X_train, Y_train, validation_split=0.2, epochs=20, callbacks=[tensorboard_callback])"
      ]
    },
    {
      "cell_type": "code",
      "execution_count": null,
      "metadata": {
        "id": "vTw1a3JZ5sp2",
        "colab": {
          "base_uri": "https://localhost:8080/"
        },
        "outputId": "5963439b-8f1b-454c-c829-825d7682aca0"
      },
      "outputs": [
        {
          "output_type": "stream",
          "name": "stdout",
          "text": [
            "Epoch 1/6\n",
            "225/225 [==============================] - 66s 282ms/step - loss: 2.6845 - acc: 0.3648 - val_loss: 2.0456 - val_acc: 0.4585\n",
            "Epoch 2/6\n",
            "225/225 [==============================] - 60s 269ms/step - loss: 1.9864 - acc: 0.4586 - val_loss: 1.8662 - val_acc: 0.4624\n",
            "Epoch 3/6\n",
            "225/225 [==============================] - 62s 276ms/step - loss: 1.8385 - acc: 0.5041 - val_loss: 1.7555 - val_acc: 0.5270\n",
            "Epoch 4/6\n",
            "225/225 [==============================] - 60s 269ms/step - loss: 1.7297 - acc: 0.5381 - val_loss: 1.7153 - val_acc: 0.5515\n",
            "Epoch 5/6\n",
            "225/225 [==============================] - 60s 269ms/step - loss: 1.6321 - acc: 0.5766 - val_loss: 1.6114 - val_acc: 0.6010\n",
            "Epoch 6/6\n",
            "225/225 [==============================] - 64s 286ms/step - loss: 1.5507 - acc: 0.5954 - val_loss: 1.5509 - val_acc: 0.6160\n"
          ]
        },
        {
          "output_type": "execute_result",
          "data": {
            "text/plain": [
              "<keras.src.callbacks.History at 0x7d2c3ec51600>"
            ]
          },
          "metadata": {},
          "execution_count": 15
        }
      ],
      "source": [
        "model.fit(X_train, Y_train, validation_split=0.2, epochs=6)"
      ]
    },
    {
      "cell_type": "code",
      "execution_count": null,
      "metadata": {
        "id": "bCo7K3JS5vAy",
        "colab": {
          "base_uri": "https://localhost:8080/"
        },
        "outputId": "9a9e3261-333c-400e-8478-64d8f90fb3b9"
      },
      "outputs": [
        {
          "output_type": "stream",
          "name": "stdout",
          "text": [
            "71/71 [==============================] - 3s 45ms/step - loss: 1.6193 - acc: 0.5993\n",
            "Loss of Test Set: 1.6193408966064453\n",
            "Accuracy of Test Set: 0.5992876291275024\n"
          ]
        }
      ],
      "source": [
        "test_loss, test_acc = model.evaluate(X_test, Y_test)\n",
        "print(\"Loss of Test Set:\", test_loss)\n",
        "print(\"Accuracy of Test Set:\", test_acc)"
      ]
    }
  ],
  "metadata": {
    "colab": {
      "provenance": [],
      "authorship_tag": "ABX9TyNoQRONmB0JXZyplAnLL6r5",
      "include_colab_link": true
    },
    "kernelspec": {
      "display_name": "Python 3",
      "name": "python3"
    },
    "language_info": {
      "name": "python"
    }
  },
  "nbformat": 4,
  "nbformat_minor": 0
}